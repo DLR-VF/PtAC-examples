{
 "cells": [
  {
   "cell_type": "markdown",
   "metadata": {},
   "source": [
    "## An example how to calculate sdg 11.2 indicator for Nairobi\n",
    "\n",
    "This is an example on how to calculate the SDG11.2.1 indicator for the city of Nairobi. You have to keep in mind that\n",
    " this is a full example of Nairobi with its 4.3 Million inhabitants. In this example you have to download whole the\n",
    " street network of the nairobi region (around 800.000 edges) and route from 332.000 points with population\n",
    "information to around 2700 public transport\n",
    "stops. Therefore, this will take some time to run (depending on your computer at least 1-2 hours).\n",
    "\n",
    "We start by importing all necessary libraries and setting our project path to the system paths."
   ]
  },
  {
   "cell_type": "code",
   "execution_count": 5,
   "metadata": {
    "pycharm": {
     "name": "#%%\n"
    }
   },
   "outputs": [],
   "source": [
    "import os\n",
    "import sys\n",
    "project_path = os.path.abspath('../')\n",
    "sys.path.append(project_path)\n",
    "import geopandas as gpd\n",
    "from matplotlib import pyplot as plt\n",
    "\n",
    "from ptac import accessibility as accessibility\n",
    "from ptac import osm as osm\n",
    "from ptac import population as population"
   ]
  },
  {
   "cell_type": "markdown",
   "metadata": {},
   "source": [
    "Next, you might load public transport stops from disk."
   ]
  },
  {
   "cell_type": "code",
   "execution_count": 6,
   "outputs": [],
   "source": [
    "stops_high_capacity = gpd.read_file(project_path + \"/data/nairobi_pt_high.gpkg\")\n",
    "stops_low_capacity = gpd.read_file(project_path + \"/data/nairobi_pt_low.gpkg\")"
   ],
   "metadata": {
    "collapsed": false,
    "pycharm": {
     "name": "#%%\n"
    }
   }
  },
  {
   "cell_type": "markdown",
   "metadata": {
    "pycharm": {
     "name": "#%% md\n"
    }
   },
   "source": [
    "and generate a Point GeoDataFrame with population information from a WSF raster dataset"
   ]
  },
  {
   "cell_type": "code",
   "execution_count": 7,
   "outputs": [],
   "source": [
    "population_points = population.raster_to_points(project_path + \"/data/nairobi_population_raster.tif\")\n"
   ],
   "metadata": {
    "collapsed": false,
    "pycharm": {
     "name": "#%%\n"
    }
   }
  },
  {
   "cell_type": "markdown",
   "source": [
    "you can write this point dataset to disk as a geopackage file (which you can also use in your local GIS) and/or\n",
    "load it again from disk"
   ],
   "metadata": {
    "collapsed": false
   }
  },
  {
   "cell_type": "code",
   "execution_count": 8,
   "outputs": [],
   "source": [
    "population_points.to_file(project_path + \"/data/nairobi_population.gpkg\", driver=\"GPKG\")\n",
    "population_points = gpd.read_file(project_path + \"/data/nairobi_population.gpkg\")"
   ],
   "metadata": {
    "collapsed": false,
    "pycharm": {
     "name": "#%%\n"
    }
   }
  },
  {
   "cell_type": "markdown",
   "source": [
    "You might want to generate a boundary of the population dataset using the convex hull function of geopandas.\n",
    "The boundary is necessary as a bounding box to download the road network."
   ],
   "metadata": {
    "collapsed": false
   }
  },
  {
   "cell_type": "code",
   "execution_count": 9,
   "outputs": [],
   "source": [
    "boundary_gdf = gpd.GeoDataFrame(index=[0], crs='epsg:4326',\n",
    "                                geometry=[population_points.unary_union.convex_hull])"
   ],
   "metadata": {
    "collapsed": false,
    "pycharm": {
     "name": "#%%\n"
    }
   }
  },
  {
   "cell_type": "markdown",
   "source": [
    "You can plot the stops and the boundary now to check if everything worked correctly"
   ],
   "metadata": {
    "collapsed": false
   }
  },
  {
   "cell_type": "code",
   "execution_count": 10,
   "outputs": [
    {
     "data": {
      "text/plain": "<AxesSubplot:>"
     },
     "execution_count": 10,
     "metadata": {},
     "output_type": "execute_result"
    },
    {
     "data": {
      "text/plain": "<Figure size 432x288 with 1 Axes>",
      "image/png": "[encoded data removed]"
     },
     "metadata": {
      "needs_background": "light"
     },
     "output_type": "display_data"
    }
   ],
   "source": [
    "ax = boundary_gdf.plot()\n",
    "stops_low_capacity.plot(color=\"black\", ax=ax)"
   ],
   "metadata": {
    "collapsed": false,
    "pycharm": {
     "name": "#%%\n"
    }
   }
  },
  {
   "cell_type": "markdown",
   "metadata": {},
   "source": [
    "or you might want to plot the population and pt stops (this may take some time since the data sets are relatively big)"
   ]
  },
  {
   "cell_type": "code",
   "execution_count": null,
   "outputs": [],
   "source": [
    "population_points.plot(column= \"pop\", cmap='OrRd', legend=True)\n",
    "plt.show()"
   ],
   "metadata": {
    "collapsed": false,
    "pycharm": {
     "name": "#%%\n",
     "is_executing": true
    }
   }
  },
  {
   "cell_type": "markdown",
   "source": [
    "now, you can calculate sum of population in the focus area"
   ],
   "metadata": {
    "collapsed": false
   }
  },
  {
   "cell_type": "code",
   "execution_count": null,
   "outputs": [],
   "source": [
    "population_sum = population_points[\"pop\"].sum()\n",
    "\n",
    "print(f\"Overall sum of population is: {population_sum}\")"
   ],
   "metadata": {
    "collapsed": false,
    "pycharm": {
     "name": "#%%\n",
     "is_executing": true
    }
   }
  },
  {
   "cell_type": "markdown",
   "metadata": {},
   "source": [
    "and download the network before calculating. As you have to download and process the whole road network for Nairobi,\n",
    "this also takes some time."
   ]
  },
  {
   "cell_type": "code",
   "execution_count": 9,
   "metadata": {
    "pycharm": {
     "name": "#%%\n"
    }
   },
   "outputs": [],
   "source": [
    "network_gdf = osm.get_network(boundary_gdf)"
   ]
  },
  {
   "cell_type": "markdown",
   "metadata": {},
   "source": [
    "Then, we can have a look at the network.."
   ]
  },
  {
   "cell_type": "code",
   "execution_count": 10,
   "metadata": {
    "pycharm": {
     "name": "#%%\n"
    }
   },
   "outputs": [
    {
     "ename": "KeyboardInterrupt",
     "evalue": "",
     "output_type": "error",
     "traceback": [
      "\u001B[1;31m---------------------------------------------------------------------------\u001B[0m",
      "\u001B[1;31mKeyboardInterrupt\u001B[0m                         Traceback (most recent call last)",
      "\u001B[1;32m~\\AppData\\Local\\Temp/ipykernel_6028/1091447370.py\u001B[0m in \u001B[0;36m<module>\u001B[1;34m\u001B[0m\n\u001B[0;32m      1\u001B[0m \u001B[0max\u001B[0m \u001B[1;33m=\u001B[0m \u001B[0mstops_low_capacity\u001B[0m\u001B[1;33m.\u001B[0m\u001B[0mplot\u001B[0m\u001B[1;33m(\u001B[0m\u001B[0mcolor\u001B[0m\u001B[1;33m=\u001B[0m\u001B[1;34m\"black\"\u001B[0m\u001B[1;33m,\u001B[0m \u001B[0mmarkersize\u001B[0m\u001B[1;33m=\u001B[0m\u001B[1;36m6\u001B[0m\u001B[1;33m,\u001B[0m \u001B[0malpha\u001B[0m\u001B[1;33m=\u001B[0m\u001B[1;36m0.6\u001B[0m\u001B[1;33m)\u001B[0m\u001B[1;33m\u001B[0m\u001B[1;33m\u001B[0m\u001B[0m\n\u001B[1;32m----> 2\u001B[1;33m \u001B[0mnetwork_gdf\u001B[0m\u001B[1;33m.\u001B[0m\u001B[0mplot\u001B[0m\u001B[1;33m(\u001B[0m\u001B[0mcolor\u001B[0m\u001B[1;33m=\u001B[0m\u001B[1;34m\"grey\"\u001B[0m\u001B[1;33m,\u001B[0m \u001B[0mlinewidth\u001B[0m\u001B[1;33m=\u001B[0m\u001B[1;36m0.2\u001B[0m\u001B[1;33m,\u001B[0m \u001B[0max\u001B[0m\u001B[1;33m=\u001B[0m\u001B[0max\u001B[0m\u001B[1;33m)\u001B[0m\u001B[1;33m\u001B[0m\u001B[1;33m\u001B[0m\u001B[0m\n\u001B[0m\u001B[0;32m      3\u001B[0m \u001B[0mplt\u001B[0m\u001B[1;33m.\u001B[0m\u001B[0mshow\u001B[0m\u001B[1;33m(\u001B[0m\u001B[1;33m)\u001B[0m\u001B[1;33m\u001B[0m\u001B[1;33m\u001B[0m\u001B[0m\n\u001B[0;32m      4\u001B[0m \u001B[1;33m\u001B[0m\u001B[0m\n",
      "\u001B[1;32m~\\.conda\\envs\\ptac-examples\\lib\\site-packages\\geopandas\\plotting.py\u001B[0m in \u001B[0;36m__call__\u001B[1;34m(self, *args, **kwargs)\u001B[0m\n\u001B[0;32m    923\u001B[0m             \u001B[0mkind\u001B[0m \u001B[1;33m=\u001B[0m \u001B[0mkwargs\u001B[0m\u001B[1;33m.\u001B[0m\u001B[0mpop\u001B[0m\u001B[1;33m(\u001B[0m\u001B[1;34m\"kind\"\u001B[0m\u001B[1;33m,\u001B[0m \u001B[1;34m\"geo\"\u001B[0m\u001B[1;33m)\u001B[0m\u001B[1;33m\u001B[0m\u001B[1;33m\u001B[0m\u001B[0m\n\u001B[0;32m    924\u001B[0m             \u001B[1;32mif\u001B[0m \u001B[0mkind\u001B[0m \u001B[1;33m==\u001B[0m \u001B[1;34m\"geo\"\u001B[0m\u001B[1;33m:\u001B[0m\u001B[1;33m\u001B[0m\u001B[1;33m\u001B[0m\u001B[0m\n\u001B[1;32m--> 925\u001B[1;33m                 \u001B[1;32mreturn\u001B[0m \u001B[0mplot_dataframe\u001B[0m\u001B[1;33m(\u001B[0m\u001B[0mdata\u001B[0m\u001B[1;33m,\u001B[0m \u001B[1;33m*\u001B[0m\u001B[0margs\u001B[0m\u001B[1;33m,\u001B[0m \u001B[1;33m**\u001B[0m\u001B[0mkwargs\u001B[0m\u001B[1;33m)\u001B[0m\u001B[1;33m\u001B[0m\u001B[1;33m\u001B[0m\u001B[0m\n\u001B[0m\u001B[0;32m    926\u001B[0m             \u001B[1;32mif\u001B[0m \u001B[0mkind\u001B[0m \u001B[1;32min\u001B[0m \u001B[0mself\u001B[0m\u001B[1;33m.\u001B[0m\u001B[0m_pandas_kinds\u001B[0m\u001B[1;33m:\u001B[0m\u001B[1;33m\u001B[0m\u001B[1;33m\u001B[0m\u001B[0m\n\u001B[0;32m    927\u001B[0m                 \u001B[1;31m# Access pandas plots\u001B[0m\u001B[1;33m\u001B[0m\u001B[1;33m\u001B[0m\u001B[1;33m\u001B[0m\u001B[0m\n",
      "\u001B[1;32m~\\.conda\\envs\\ptac-examples\\lib\\site-packages\\geopandas\\plotting.py\u001B[0m in \u001B[0;36mplot_dataframe\u001B[1;34m(df, column, cmap, color, ax, cax, categorical, legend, scheme, k, vmin, vmax, markersize, figsize, legend_kwds, categories, classification_kwds, missing_kwds, aspect, **style_kwds)\u001B[0m\n\u001B[0;32m    687\u001B[0m \u001B[1;33m\u001B[0m\u001B[0m\n\u001B[0;32m    688\u001B[0m     \u001B[1;32mif\u001B[0m \u001B[0mcolumn\u001B[0m \u001B[1;32mis\u001B[0m \u001B[1;32mNone\u001B[0m\u001B[1;33m:\u001B[0m\u001B[1;33m\u001B[0m\u001B[1;33m\u001B[0m\u001B[0m\n\u001B[1;32m--> 689\u001B[1;33m         return plot_series(\n\u001B[0m\u001B[0;32m    690\u001B[0m             \u001B[0mdf\u001B[0m\u001B[1;33m.\u001B[0m\u001B[0mgeometry\u001B[0m\u001B[1;33m,\u001B[0m\u001B[1;33m\u001B[0m\u001B[1;33m\u001B[0m\u001B[0m\n\u001B[0;32m    691\u001B[0m             \u001B[0mcmap\u001B[0m\u001B[1;33m=\u001B[0m\u001B[0mcmap\u001B[0m\u001B[1;33m,\u001B[0m\u001B[1;33m\u001B[0m\u001B[1;33m\u001B[0m\u001B[0m\n",
      "\u001B[1;32m~\\.conda\\envs\\ptac-examples\\lib\\site-packages\\geopandas\\plotting.py\u001B[0m in \u001B[0;36mplot_series\u001B[1;34m(s, cmap, color, ax, figsize, aspect, **style_kwds)\u001B[0m\n\u001B[0;32m    453\u001B[0m     \u001B[1;32mif\u001B[0m \u001B[1;32mnot\u001B[0m \u001B[0mlines\u001B[0m\u001B[1;33m.\u001B[0m\u001B[0mempty\u001B[0m\u001B[1;33m:\u001B[0m\u001B[1;33m\u001B[0m\u001B[1;33m\u001B[0m\u001B[0m\n\u001B[0;32m    454\u001B[0m         \u001B[0mvalues_\u001B[0m \u001B[1;33m=\u001B[0m \u001B[0mvalues\u001B[0m\u001B[1;33m[\u001B[0m\u001B[0mline_idx\u001B[0m\u001B[1;33m]\u001B[0m \u001B[1;32mif\u001B[0m \u001B[0mcmap\u001B[0m \u001B[1;32melse\u001B[0m \u001B[1;32mNone\u001B[0m\u001B[1;33m\u001B[0m\u001B[1;33m\u001B[0m\u001B[0m\n\u001B[1;32m--> 455\u001B[1;33m         _plot_linestring_collection(\n\u001B[0m\u001B[0;32m    456\u001B[0m             \u001B[0max\u001B[0m\u001B[1;33m,\u001B[0m \u001B[0mlines\u001B[0m\u001B[1;33m,\u001B[0m \u001B[0mvalues_\u001B[0m\u001B[1;33m,\u001B[0m \u001B[0mcolor\u001B[0m\u001B[1;33m=\u001B[0m\u001B[0mcolor\u001B[0m\u001B[1;33m,\u001B[0m \u001B[0mcmap\u001B[0m\u001B[1;33m=\u001B[0m\u001B[0mcmap\u001B[0m\u001B[1;33m,\u001B[0m \u001B[1;33m**\u001B[0m\u001B[0mstyle_kwds\u001B[0m\u001B[1;33m\u001B[0m\u001B[1;33m\u001B[0m\u001B[0m\n\u001B[0;32m    457\u001B[0m         )\n",
      "\u001B[1;32m~\\.conda\\envs\\ptac-examples\\lib\\site-packages\\geopandas\\plotting.py\u001B[0m in \u001B[0;36m_plot_linestring_collection\u001B[1;34m(ax, geoms, values, color, cmap, vmin, vmax, **kwargs)\u001B[0m\n\u001B[0;32m    229\u001B[0m \u001B[1;33m\u001B[0m\u001B[0m\n\u001B[0;32m    230\u001B[0m     \u001B[0msegments\u001B[0m \u001B[1;33m=\u001B[0m \u001B[1;33m[\u001B[0m\u001B[0mnp\u001B[0m\u001B[1;33m.\u001B[0m\u001B[0marray\u001B[0m\u001B[1;33m(\u001B[0m\u001B[0mlinestring\u001B[0m\u001B[1;33m.\u001B[0m\u001B[0mcoords\u001B[0m\u001B[1;33m)\u001B[0m\u001B[1;33m[\u001B[0m\u001B[1;33m:\u001B[0m\u001B[1;33m,\u001B[0m \u001B[1;33m:\u001B[0m\u001B[1;36m2\u001B[0m\u001B[1;33m]\u001B[0m \u001B[1;32mfor\u001B[0m \u001B[0mlinestring\u001B[0m \u001B[1;32min\u001B[0m \u001B[0mgeoms\u001B[0m\u001B[1;33m]\u001B[0m\u001B[1;33m\u001B[0m\u001B[1;33m\u001B[0m\u001B[0m\n\u001B[1;32m--> 231\u001B[1;33m     \u001B[0mcollection\u001B[0m \u001B[1;33m=\u001B[0m \u001B[0mLineCollection\u001B[0m\u001B[1;33m(\u001B[0m\u001B[0msegments\u001B[0m\u001B[1;33m,\u001B[0m \u001B[1;33m**\u001B[0m\u001B[0mkwargs\u001B[0m\u001B[1;33m)\u001B[0m\u001B[1;33m\u001B[0m\u001B[1;33m\u001B[0m\u001B[0m\n\u001B[0m\u001B[0;32m    232\u001B[0m \u001B[1;33m\u001B[0m\u001B[0m\n\u001B[0;32m    233\u001B[0m     \u001B[1;32mif\u001B[0m \u001B[0mvalues\u001B[0m \u001B[1;32mis\u001B[0m \u001B[1;32mnot\u001B[0m \u001B[1;32mNone\u001B[0m\u001B[1;33m:\u001B[0m\u001B[1;33m\u001B[0m\u001B[1;33m\u001B[0m\u001B[0m\n",
      "\u001B[1;32m~\\.conda\\envs\\ptac-examples\\lib\\site-packages\\matplotlib\\collections.py\u001B[0m in \u001B[0;36m__init__\u001B[1;34m(self, segments, zorder, *args, **kwargs)\u001B[0m\n\u001B[0;32m   1463\u001B[0m             \u001B[0mzorder\u001B[0m\u001B[1;33m=\u001B[0m\u001B[0mzorder\u001B[0m\u001B[1;33m,\u001B[0m\u001B[1;33m\u001B[0m\u001B[1;33m\u001B[0m\u001B[0m\n\u001B[0;32m   1464\u001B[0m             **kwargs)\n\u001B[1;32m-> 1465\u001B[1;33m         \u001B[0mself\u001B[0m\u001B[1;33m.\u001B[0m\u001B[0mset_segments\u001B[0m\u001B[1;33m(\u001B[0m\u001B[0msegments\u001B[0m\u001B[1;33m)\u001B[0m\u001B[1;33m\u001B[0m\u001B[1;33m\u001B[0m\u001B[0m\n\u001B[0m\u001B[0;32m   1466\u001B[0m \u001B[1;33m\u001B[0m\u001B[0m\n\u001B[0;32m   1467\u001B[0m     \u001B[1;32mdef\u001B[0m \u001B[0mset_segments\u001B[0m\u001B[1;33m(\u001B[0m\u001B[0mself\u001B[0m\u001B[1;33m,\u001B[0m \u001B[0msegments\u001B[0m\u001B[1;33m)\u001B[0m\u001B[1;33m:\u001B[0m\u001B[1;33m\u001B[0m\u001B[1;33m\u001B[0m\u001B[0m\n",
      "\u001B[1;32m~\\.conda\\envs\\ptac-examples\\lib\\site-packages\\matplotlib\\collections.py\u001B[0m in \u001B[0;36mset_segments\u001B[1;34m(self, segments)\u001B[0m\n\u001B[0;32m   1478\u001B[0m             \u001B[0m_segments\u001B[0m \u001B[1;33m=\u001B[0m \u001B[0mself\u001B[0m\u001B[1;33m.\u001B[0m\u001B[0m_add_offsets\u001B[0m\u001B[1;33m(\u001B[0m\u001B[0m_segments\u001B[0m\u001B[1;33m)\u001B[0m\u001B[1;33m\u001B[0m\u001B[1;33m\u001B[0m\u001B[0m\n\u001B[0;32m   1479\u001B[0m \u001B[1;33m\u001B[0m\u001B[0m\n\u001B[1;32m-> 1480\u001B[1;33m         \u001B[0mself\u001B[0m\u001B[1;33m.\u001B[0m\u001B[0m_paths\u001B[0m \u001B[1;33m=\u001B[0m \u001B[1;33m[\u001B[0m\u001B[0mmpath\u001B[0m\u001B[1;33m.\u001B[0m\u001B[0mPath\u001B[0m\u001B[1;33m(\u001B[0m\u001B[0m_seg\u001B[0m\u001B[1;33m)\u001B[0m \u001B[1;32mfor\u001B[0m \u001B[0m_seg\u001B[0m \u001B[1;32min\u001B[0m \u001B[0m_segments\u001B[0m\u001B[1;33m]\u001B[0m\u001B[1;33m\u001B[0m\u001B[1;33m\u001B[0m\u001B[0m\n\u001B[0m\u001B[0;32m   1481\u001B[0m         \u001B[0mself\u001B[0m\u001B[1;33m.\u001B[0m\u001B[0mstale\u001B[0m \u001B[1;33m=\u001B[0m \u001B[1;32mTrue\u001B[0m\u001B[1;33m\u001B[0m\u001B[1;33m\u001B[0m\u001B[0m\n\u001B[0;32m   1482\u001B[0m \u001B[1;33m\u001B[0m\u001B[0m\n",
      "\u001B[1;32m~\\.conda\\envs\\ptac-examples\\lib\\site-packages\\matplotlib\\collections.py\u001B[0m in \u001B[0;36m<listcomp>\u001B[1;34m(.0)\u001B[0m\n\u001B[0;32m   1478\u001B[0m             \u001B[0m_segments\u001B[0m \u001B[1;33m=\u001B[0m \u001B[0mself\u001B[0m\u001B[1;33m.\u001B[0m\u001B[0m_add_offsets\u001B[0m\u001B[1;33m(\u001B[0m\u001B[0m_segments\u001B[0m\u001B[1;33m)\u001B[0m\u001B[1;33m\u001B[0m\u001B[1;33m\u001B[0m\u001B[0m\n\u001B[0;32m   1479\u001B[0m \u001B[1;33m\u001B[0m\u001B[0m\n\u001B[1;32m-> 1480\u001B[1;33m         \u001B[0mself\u001B[0m\u001B[1;33m.\u001B[0m\u001B[0m_paths\u001B[0m \u001B[1;33m=\u001B[0m \u001B[1;33m[\u001B[0m\u001B[0mmpath\u001B[0m\u001B[1;33m.\u001B[0m\u001B[0mPath\u001B[0m\u001B[1;33m(\u001B[0m\u001B[0m_seg\u001B[0m\u001B[1;33m)\u001B[0m \u001B[1;32mfor\u001B[0m \u001B[0m_seg\u001B[0m \u001B[1;32min\u001B[0m \u001B[0m_segments\u001B[0m\u001B[1;33m]\u001B[0m\u001B[1;33m\u001B[0m\u001B[1;33m\u001B[0m\u001B[0m\n\u001B[0m\u001B[0;32m   1481\u001B[0m         \u001B[0mself\u001B[0m\u001B[1;33m.\u001B[0m\u001B[0mstale\u001B[0m \u001B[1;33m=\u001B[0m \u001B[1;32mTrue\u001B[0m\u001B[1;33m\u001B[0m\u001B[1;33m\u001B[0m\u001B[0m\n\u001B[0;32m   1482\u001B[0m \u001B[1;33m\u001B[0m\u001B[0m\n",
      "\u001B[1;32m~\\.conda\\envs\\ptac-examples\\lib\\site-packages\\matplotlib\\path.py\u001B[0m in \u001B[0;36m__init__\u001B[1;34m(self, vertices, codes, _interpolation_steps, closed, readonly)\u001B[0m\n\u001B[0;32m    127\u001B[0m         \"\"\"\n\u001B[0;32m    128\u001B[0m         \u001B[0mvertices\u001B[0m \u001B[1;33m=\u001B[0m \u001B[0m_to_unmasked_float_array\u001B[0m\u001B[1;33m(\u001B[0m\u001B[0mvertices\u001B[0m\u001B[1;33m)\u001B[0m\u001B[1;33m\u001B[0m\u001B[1;33m\u001B[0m\u001B[0m\n\u001B[1;32m--> 129\u001B[1;33m         \u001B[0m_api\u001B[0m\u001B[1;33m.\u001B[0m\u001B[0mcheck_shape\u001B[0m\u001B[1;33m(\u001B[0m\u001B[1;33m(\u001B[0m\u001B[1;32mNone\u001B[0m\u001B[1;33m,\u001B[0m \u001B[1;36m2\u001B[0m\u001B[1;33m)\u001B[0m\u001B[1;33m,\u001B[0m \u001B[0mvertices\u001B[0m\u001B[1;33m=\u001B[0m\u001B[0mvertices\u001B[0m\u001B[1;33m)\u001B[0m\u001B[1;33m\u001B[0m\u001B[1;33m\u001B[0m\u001B[0m\n\u001B[0m\u001B[0;32m    130\u001B[0m \u001B[1;33m\u001B[0m\u001B[0m\n\u001B[0;32m    131\u001B[0m         \u001B[1;32mif\u001B[0m \u001B[0mcodes\u001B[0m \u001B[1;32mis\u001B[0m \u001B[1;32mnot\u001B[0m \u001B[1;32mNone\u001B[0m\u001B[1;33m:\u001B[0m\u001B[1;33m\u001B[0m\u001B[1;33m\u001B[0m\u001B[0m\n",
      "\u001B[1;32m~\\.conda\\envs\\ptac-examples\\lib\\site-packages\\matplotlib\\_api\\__init__.py\u001B[0m in \u001B[0;36mcheck_shape\u001B[1;34m(_shape, **kwargs)\u001B[0m\n\u001B[0;32m    151\u001B[0m         \u001B[0mdata_shape\u001B[0m \u001B[1;33m=\u001B[0m \u001B[0mv\u001B[0m\u001B[1;33m.\u001B[0m\u001B[0mshape\u001B[0m\u001B[1;33m\u001B[0m\u001B[1;33m\u001B[0m\u001B[0m\n\u001B[0;32m    152\u001B[0m \u001B[1;33m\u001B[0m\u001B[0m\n\u001B[1;32m--> 153\u001B[1;33m         if len(target_shape) != len(data_shape) or any(\n\u001B[0m\u001B[0;32m    154\u001B[0m                 \u001B[0mt\u001B[0m \u001B[1;32mnot\u001B[0m \u001B[1;32min\u001B[0m \u001B[1;33m[\u001B[0m\u001B[0ms\u001B[0m\u001B[1;33m,\u001B[0m \u001B[1;32mNone\u001B[0m\u001B[1;33m]\u001B[0m\u001B[1;33m\u001B[0m\u001B[1;33m\u001B[0m\u001B[0m\n\u001B[0;32m    155\u001B[0m                 \u001B[1;32mfor\u001B[0m \u001B[0mt\u001B[0m\u001B[1;33m,\u001B[0m \u001B[0ms\u001B[0m \u001B[1;32min\u001B[0m \u001B[0mzip\u001B[0m\u001B[1;33m(\u001B[0m\u001B[0mtarget_shape\u001B[0m\u001B[1;33m,\u001B[0m \u001B[0mdata_shape\u001B[0m\u001B[1;33m)\u001B[0m\u001B[1;33m\u001B[0m\u001B[1;33m\u001B[0m\u001B[0m\n",
      "\u001B[1;32m~\\.conda\\envs\\ptac-examples\\lib\\site-packages\\matplotlib\\_api\\__init__.py\u001B[0m in \u001B[0;36m<genexpr>\u001B[1;34m(.0)\u001B[0m\n\u001B[0;32m    151\u001B[0m         \u001B[0mdata_shape\u001B[0m \u001B[1;33m=\u001B[0m \u001B[0mv\u001B[0m\u001B[1;33m.\u001B[0m\u001B[0mshape\u001B[0m\u001B[1;33m\u001B[0m\u001B[1;33m\u001B[0m\u001B[0m\n\u001B[0;32m    152\u001B[0m \u001B[1;33m\u001B[0m\u001B[0m\n\u001B[1;32m--> 153\u001B[1;33m         if len(target_shape) != len(data_shape) or any(\n\u001B[0m\u001B[0;32m    154\u001B[0m                 \u001B[0mt\u001B[0m \u001B[1;32mnot\u001B[0m \u001B[1;32min\u001B[0m \u001B[1;33m[\u001B[0m\u001B[0ms\u001B[0m\u001B[1;33m,\u001B[0m \u001B[1;32mNone\u001B[0m\u001B[1;33m]\u001B[0m\u001B[1;33m\u001B[0m\u001B[1;33m\u001B[0m\u001B[0m\n\u001B[0;32m    155\u001B[0m                 \u001B[1;32mfor\u001B[0m \u001B[0mt\u001B[0m\u001B[1;33m,\u001B[0m \u001B[0ms\u001B[0m \u001B[1;32min\u001B[0m \u001B[0mzip\u001B[0m\u001B[1;33m(\u001B[0m\u001B[0mtarget_shape\u001B[0m\u001B[1;33m,\u001B[0m \u001B[0mdata_shape\u001B[0m\u001B[1;33m)\u001B[0m\u001B[1;33m\u001B[0m\u001B[1;33m\u001B[0m\u001B[0m\n",
      "\u001B[1;31mKeyboardInterrupt\u001B[0m: "
     ]
    },
    {
     "data": {
      "text/plain": "<Figure size 432x288 with 1 Axes>",
      "image/png": "[encoded data removed]"
     },
     "metadata": {
      "needs_background": "light"
     },
     "output_type": "display_data"
    }
   ],
   "source": [
    "ax = stops_low_capacity.plot(color=\"black\", markersize=6, alpha=0.6)\n",
    "network_gdf.plot(color=\"grey\", linewidth=0.2, ax=ax)\n",
    "plt.show()"
   ]
  },
  {
   "cell_type": "markdown",
   "metadata": {},
   "source": [
    ".. and store it to disk. You are able to drag and drop this data set into your GIS software from the data folder within\n",
    "this project."
   ]
  },
  {
   "cell_type": "code",
   "execution_count": null,
   "metadata": {
    "pycharm": {
     "name": "#%%\n"
    }
   },
   "outputs": [],
   "source": [
    "network_gdf.to_file(project_path + \"/data/nairobi_network.gpkg\", driver=\"GPKG\")"
   ]
  },
  {
   "cell_type": "markdown",
   "metadata": {
    "pycharm": {
     "name": "#%% md\n"
    }
   },
   "source": [
    "Now, we can read the data again from disk (this is not necessary if you performed the previous steps).."
   ]
  },
  {
   "cell_type": "code",
   "execution_count": null,
   "metadata": {
    "pycharm": {
     "name": "#%%\n",
     "is_executing": true
    }
   },
   "outputs": [],
   "source": [
    "network_gdf = gpd.read_file(project_path + \"/data/nairobi_network.gpkg\")"
   ]
  },
  {
   "cell_type": "markdown",
   "metadata": {},
   "source": [
    ".. and calculate the accessibilities from population point data to high capacity stations (something like subway).\n",
    "Based on the indicator definition access to low capacity stations should be under 1000 meters."
   ]
  },
  {
   "cell_type": "code",
   "execution_count": null,
   "metadata": {
    "pycharm": {
     "name": "#%%\n",
     "is_executing": true
    }
   },
   "outputs": [],
   "source": [
    "accessibility_output_high = accessibility.distance_to_closest(\n",
    "    start_geometries=population_points,\n",
    "    destination_geometries=stops_high_capacity,\n",
    "    boundary_geometries=boundary_gdf,\n",
    "    network_gdf=None,\n",
    "    number_of_threads=4,\n",
    "    transport_system=\"high-capacity\",\n",
    "    verbose=5)"
   ]
  },
  {
   "cell_type": "markdown",
   "metadata": {},
   "source": [
    ".. now, we calculate the accessibilities from population point data to low capacity stations (something like bus).\n",
    "Based on the indicator definition access to low capacity stations should be under 500 meters."
   ]
  },
  {
   "cell_type": "code",
   "execution_count": null,
   "metadata": {
    "pycharm": {
     "name": "#%%\n",
     "is_executing": true
    }
   },
   "outputs": [],
   "source": [
    "accessibility_output_low = accessibility.distance_to_closest(\n",
    "    start_geometries=population_points,\n",
    "    destination_geometries=stops_low_capacity,\n",
    "    boundary_geometries=boundary_gdf,\n",
    "    network_gdf=None,\n",
    "    number_of_threads=4,\n",
    "    transport_system=\"low-capacity\",\n",
    "    verbose=5)"
   ]
  },
  {
   "cell_type": "markdown",
   "metadata": {
    "pycharm": {
     "name": "#%% md\n"
    }
   },
   "source": [
    ".. out of that, we can calculate the actual indicator."
   ]
  },
  {
   "cell_type": "code",
   "execution_count": null,
   "metadata": {
    "pycharm": {
     "name": "#%%\n",
     "is_executing": true
    }
   },
   "outputs": [],
   "source": [
    "sdg_low_high = accessibility.calculate_sdg(df_pop_total=population_sum,\n",
    "                            pop_accessible=[accessibility_output_high, accessibility_output_low],\n",
    "                            population_column='pop')\n",
    "print(f\"{sdg_low_high} percent of the population have access to low- and high-capacity public transit systems\")\n"
   ]
  },
  {
   "cell_type": "markdown",
   "metadata": {},
   "source": [
    ".. we can also calculate the accessibilities from population point data to low capacity stations (something like bus).\n",
    "Based on the indicator definition access to low capacity stations should be under 500 meters. I use 4 threads as i have\n",
    "4 kernels."
   ]
  },
  {
   "cell_type": "code",
   "execution_count": null,
   "metadata": {
    "pycharm": {
     "name": "#%%\n"
    }
   },
   "outputs": [],
   "source": [
    "accessibility_output = accessibility.distance_to_closest(\n",
    "    start_geometries=population_points,\n",
    "    destination_geometries=stops_low_capacity,\n",
    "    network_gdf= network_gdf,\n",
    "    transport_system=None,\n",
    "    maximum_distance=500,\n",
    "    number_of_threads=4,\n",
    "    boundary_geometries=boundary_gdf,\n",
    "    verbose=5)"
   ]
  },
  {
   "cell_type": "code",
   "execution_count": null,
   "metadata": {
    "pycharm": {
     "name": "#%%\n"
    }
   },
   "outputs": [],
   "source": [
    "sdg_500m = accessibility.calculate_sdg(df_pop_total=population_sum,\n",
    "                            pop_accessible=accessibility_output,\n",
    "                            population_column='pop')\n",
    "print(f\"{sdg_500m} percent of the population have access to public transit systems in 500 m\")\n",
    "\n"
   ]
  },
  {
   "cell_type": "code",
   "execution_count": null,
   "metadata": {
    "pycharm": {
     "name": "#%%\n"
    }
   },
   "outputs": [],
   "source": []
  }
 ],
 "metadata": {
  "kernelspec": {
   "display_name": "Python 3 (ipykernel)",
   "language": "python",
   "name": "python3"
  },
  "language_info": {
   "codemirror_mode": {
    "name": "ipython",
    "version": 3
   },
   "file_extension": ".py",
   "mimetype": "text/x-python",
   "name": "python",
   "nbconvert_exporter": "python",
   "pygments_lexer": "ipython3",
   "version": "3.8.10"
  }
 },
 "nbformat": 4,
 "nbformat_minor": 1
}