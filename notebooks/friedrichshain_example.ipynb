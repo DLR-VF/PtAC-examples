{
 "cells": [
  {
   "cell_type": "markdown",
   "metadata": {},
   "source": [
    "## An example how to calculate sdg 11.2 indicator for Friedrichshain (Berlin)\n",
    "\n",
    "This is an example on how to calculate the SDG11.2.1 indicator for the district of Friedrichshain in Berlin (Germany).\n",
    "We start by importing all necessary libraries and setting our project path to the system paths."
   ]
  },
  {
   "cell_type": "code",
   "execution_count": null,
   "outputs": [],
   "source": [
    "import os\n",
    "import sys\n",
    "project_path = os.path.abspath('../')\n",
    "sys.path.append(project_path)\n",
    "import geopandas as gpd\n",
    "from matplotlib import pyplot as plt\n",
    "from ptac import accessibility as accessibility\n",
    "from ptac import osm as osm\n",
    "from ptac import population as population"
   ],
   "metadata": {
    "collapsed": false,
    "pycharm": {
     "name": "#%%\n"
    }
   }
  },
  {
   "cell_type": "markdown",
   "metadata": {},
   "source": [
    "Next, we have to load public transport stops and population data."
   ]
  },
  {
   "cell_type": "code",
   "execution_count": 7,
   "metadata": {
    "pycharm": {
     "name": "#%%\n"
    }
   },
   "outputs": [],
   "source": [
    "stops = gpd.read_file(project_path + \"/data/friedrichshain_pt.gpkg\")\n",
    "population_points = gpd.read_file(project_path + \"/data/friedrichshain_population.gpkg\")"
   ]
  },
  {
   "cell_type": "markdown",
   "metadata": {},
   "source": [
    "You might want to generate a boundary of the population dataset using the convex hull function of geopandas.\n",
    "The boundary is necessary as a bounding box to download the road network."
   ]
  },
  {
   "cell_type": "code",
   "execution_count": null,
   "metadata": {
    "pycharm": {
     "name": "#%%\n"
    }
   },
   "outputs": [],
   "source": [
    "boundary_gdf = gpd.GeoDataFrame(index=[0], crs='epsg:4326', geometry=[population_points.unary_union.convex_hull])\n",
    "\n",
    "boundary_gdf.plot()"
   ]
  },
  {
   "cell_type": "markdown",
   "metadata": {},
   "source": [
    "if you have population data in a raster format you might want to convert this raster to a point geodataframe from\n",
    "which you can start the accessibility calculation. You will be able to download raster population information from the\n",
    "world settlement footprint in the future. We hope this functionality will be available until autumn 2021."
   ]
  },
  {
   "cell_type": "code",
   "execution_count": null,
   "metadata": {
    "pycharm": {
     "name": "#%%\n"
    }
   },
   "outputs": [],
   "source": [
    "population_points = population.raster_to_points(path=project_path + \"/data/friedrichshain_population_raster.tif\")"
   ]
  },
  {
   "cell_type": "markdown",
   "metadata": {},
   "source": [
    "Now, we plot population and pt stops"
   ]
  },
  {
   "cell_type": "code",
   "execution_count": null,
   "metadata": {
    "pycharm": {
     "name": "#%%\n"
    }
   },
   "outputs": [],
   "source": [
    "ax = population_points.plot(column= \"pop\", cmap='OrRd', legend=True, alpha=0.1)\n",
    "ax.set_facecolor(\"black\")\n",
    "stops.plot(color=\"royalblue\", ax=ax, markersize=6, alpha=0.6)"
   ]
  },
  {
   "cell_type": "markdown",
   "metadata": {},
   "source": [
    "Calculate sum of population in the focus area"
   ]
  },
  {
   "cell_type": "code",
   "execution_count": null,
   "metadata": {
    "pycharm": {
     "name": "#%%\n"
    }
   },
   "outputs": [],
   "source": [
    "population_sum = population_points[\"pop\"].sum()\n",
    "\n",
    "print(f\"Overall sum of population is: {population_sum}\")"
   ]
  },
  {
   "cell_type": "markdown",
   "metadata": {
    "pycharm": {
     "name": "#%% md\n"
    }
   },
   "source": [
    "Now calculate the accessibility from population point data to stations. If you do not pass a network_gdf dataset\n",
    ", it will be downloaded automatically based on the bounding box."
   ]
  },
  {
   "cell_type": "code",
   "execution_count": null,
   "metadata": {
    "pycharm": {
     "name": "#%%\n"
    }
   },
   "outputs": [],
   "source": [
    "accessibility_output = accessibility.distance_to_closest(start_geometries=population_points,\n",
    "                                  destination_geometries=stops,\n",
    "                                  boundary_geometries=boundary_gdf,\n",
    "                                  network_gdf=None,\n",
    "                                  verbose=1)"
   ]
  },
  {
   "cell_type": "markdown",
   "metadata": {},
   "source": [
    "the output looks like this:"
   ]
  },
  {
   "cell_type": "code",
   "execution_count": null,
   "metadata": {
    "pycharm": {
     "name": "#%%\n"
    }
   },
   "outputs": [],
   "source": [
    "print(accessibility_output.head(5))"
   ]
  },
  {
   "cell_type": "markdown",
   "metadata": {},
   "source": [
    "It is also possible to download the network before calculating"
   ]
  },
  {
   "cell_type": "code",
   "execution_count": null,
   "metadata": {
    "pycharm": {
     "name": "#%%\n"
    }
   },
   "outputs": [],
   "source": [
    "network_gdf = osm.get_network(boundary_gdf)"
   ]
  },
  {
   "cell_type": "markdown",
   "metadata": {},
   "source": [
    "Then, we can have a look at the network.."
   ]
  },
  {
   "cell_type": "code",
   "execution_count": null,
   "metadata": {
    "pycharm": {
     "name": "#%%\n"
    }
   },
   "outputs": [],
   "source": [
    "ax = stops.plot(color=\"black\", markersize=6, alpha=0.6)\n",
    "network_gdf.plot(color=\"grey\", linewidth=0.2, ax=ax)\n",
    "plt.show()"
   ]
  },
  {
   "cell_type": "markdown",
   "metadata": {
    "pycharm": {
     "name": "#%% md\n"
    }
   },
   "source": [
    ".. and store it to disk. You are able to drag and drop this data set into your GIS software."
   ]
  },
  {
   "cell_type": "code",
   "execution_count": null,
   "metadata": {
    "pycharm": {
     "name": "#%%\n"
    }
   },
   "outputs": [],
   "source": [
    "network_gdf.to_file(project_path + \"/data/friedrichshain_network.gpkg\", driver=\"GPKG\")"
   ]
  },
  {
   "cell_type": "markdown",
   "metadata": {},
   "source": [
    "Now, we can calculate again with our stored network."
   ]
  },
  {
   "cell_type": "code",
   "execution_count": null,
   "metadata": {
    "pycharm": {
     "name": "#%%\n"
    }
   },
   "outputs": [],
   "source": [
    "network_gdf = gpd.read_file(project_path + \"/data/friedrichshain_network.gpkg\")\n",
    "\n",
    "accessibility_output= accessibility.distance_to_closest(start_geometries=population_points,\n",
    "                                  destination_geometries=stops,\n",
    "                                  boundary_geometries=boundary_gdf,\n",
    "                                  maximum_distance=500,\n",
    "                                  network_gdf=network_gdf,\n",
    "                                  verbose=1)"
   ]
  },
  {
   "cell_type": "markdown",
   "metadata": {},
   "source": [
    "Setting maximum distance to 500 meters generates an output in\n",
    "which only includes starting points which are within 500 meters from the next station."
   ]
  },
  {
   "cell_type": "code",
   "execution_count": null,
   "metadata": {
    "pycharm": {
     "name": "#%%\n"
    }
   },
   "outputs": [],
   "source": [
    "print(accessibility_output.head(10))"
   ]
  },
  {
   "cell_type": "markdown",
   "metadata": {},
   "source": [
    "Calculate sum of population with access to pt within 500 meters"
   ]
  },
  {
   "cell_type": "code",
   "execution_count": null,
   "metadata": {
    "pycharm": {
     "name": "#%%\n"
    }
   },
   "outputs": [],
   "source": [
    "sum_pop_with_access = accessibility_output[\"pop\"].sum()\n",
    "print(sum_pop_with_access)"
   ]
  },
  {
   "cell_type": "markdown",
   "metadata": {},
   "source": [
    "Calculate the actual indicator and print the result"
   ]
  },
  {
   "cell_type": "code",
   "execution_count": null,
   "metadata": {
    "pycharm": {
     "name": "#%%\n"
    }
   },
   "outputs": [],
   "source": [
    "sdg = accessibility.calculate_sdg(df_pop_total=population_points,\n",
    "                                  pop_accessible=accessibility_output,\n",
    "                                  population_column='pop')\n",
    "print(f\"{sdg} percent of the population have access to the public transit system within 500 meters\")\n"
   ]
  },
  {
   "cell_type": "markdown",
   "metadata": {
    "pycharm": {
     "name": "#%% md\n"
    }
   },
   "source": [
    "Plot result as a map"
   ]
  },
  {
   "cell_type": "code",
   "execution_count": null,
   "metadata": {
    "pycharm": {
     "name": "#%%\n"
    }
   },
   "outputs": [],
   "source": [
    "ax = population_points.to_crs(4326).plot(color=\"grey\")\n",
    "accessibility_output.to_crs(4326).plot(column='distance_pt', cmap='OrRd', ax=ax, legend=True)\n",
    "plt.show()\n"
   ]
  },
  {
   "cell_type": "markdown",
   "source": [
    "If you wish to differentiate between high and low capacity public transport you should split the\n",
    "dataset in. This is an example how to do it. Might be different in your case based on the structure of your data."
   ],
   "metadata": {
    "collapsed": false
   }
  },
  {
   "cell_type": "code",
   "execution_count": null,
   "outputs": [],
   "source": [
    "stops_low_capacity = stops[stops[\"highway\"]==\"bus_stop\"]\n",
    "stops_high_capacity = stops[(stops[\"railway\"]==\"tram_stop\")|(stops[\"railway\"]==\"station\")]\n"
   ],
   "metadata": {
    "collapsed": false,
    "pycharm": {
     "name": "#%%\n"
    }
   }
  },
  {
   "cell_type": "markdown",
   "source": [
    "Now, we have to run accessibility calculation for high and low capacity public transport"
   ],
   "metadata": {
    "collapsed": false
   }
  },
  {
   "cell_type": "code",
   "execution_count": null,
   "outputs": [],
   "source": [
    "network_gdf = gpd.read_file(project_path + \"/data/friedrichshain_network.gpkg\")\n",
    "\n",
    "accessibility_output_low = accessibility.distance_to_closest(start_geometries=population_points,\n",
    "                                  destination_geometries=stops_low_capacity,\n",
    "                                  transport_system=\"low-capacity\",\n",
    "                                  boundary_geometries=boundary_gdf,\n",
    "                                  network_gdf=network_gdf,\n",
    "                                  verbose=1)\n",
    "\n",
    "\n",
    "accessibility_output_high= accessibility.distance_to_closest(start_geometries=population_points,\n",
    "                                  destination_geometries=stops_high_capacity,\n",
    "                                  transport_system=\"high-capacity\",\n",
    "                                  boundary_geometries=boundary_gdf,\n",
    "                                  network_gdf=network_gdf,\n",
    "                                  verbose=1)"
   ],
   "metadata": {
    "collapsed": false,
    "pycharm": {
     "name": "#%%\n"
    }
   }
  },
  {
   "cell_type": "markdown",
   "source": [
    ".. and calculate the actual SDG indicator out of that. As assumed, the value is a bit higher, now."
   ],
   "metadata": {
    "collapsed": false
   }
  },
  {
   "cell_type": "code",
   "execution_count": null,
   "outputs": [],
   "source": [
    "sdg_low_high = accessibility.calculate_sdg(df_pop_total=population_points,\n",
    "                                           pop_accessible=[accessibility_output_high, accessibility_output_low],\n",
    "                                           population_column='pop')\n",
    "print(f\"{sdg_low_high} percent of the population have access to low- and high-capacity public transit systems\")\n"
   ],
   "metadata": {
    "collapsed": false,
    "pycharm": {
     "name": "#%%\n"
    }
   }
  }
 ],
 "metadata": {
  "kernelspec": {
   "display_name": "Python 3 (ipykernel)",
   "language": "python",
   "name": "python3"
  },
  "language_info": {
   "codemirror_mode": {
    "name": "ipython",
    "version": 3
   },
   "file_extension": ".py",
   "mimetype": "text/x-python",
   "name": "python",
   "nbconvert_exporter": "python",
   "pygments_lexer": "ipython3",
   "version": "3.8.10"
  }
 },
 "nbformat": 4,
 "nbformat_minor": 1
}