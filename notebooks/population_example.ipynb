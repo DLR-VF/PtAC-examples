{
 "cells": [
  {
   "cell_type": "markdown",
   "metadata": {},
   "source": [
    "## An example how to process population information\n",
    "\n",
    "This example will show how to process population information for usage in PtAC. For now, this just includes the\n",
    "generation of point geodataframes based on a population raster dataset. In the future we want to include functionality\n",
    "download and process population information directly from WSF."
   ]
  },
  {
   "cell_type": "code",
   "execution_count": 1,
   "metadata": {},
   "outputs": [],
   "source": [
    "import os\n",
    "import sys\n",
    "project_path = os.path.abspath('../')\n",
    "sys.path.append(project_path)\n",
    "from ptac import population as population\n",
    "\n"
   ]
  },
  {
   "cell_type": "markdown",
   "metadata": {
    "pycharm": {
     "name": "#%% md\n"
    }
   },
   "source": [
    "This is a simple example on how to generate a point geodataframe from a raster data set."
   ]
  },
  {
   "cell_type": "code",
   "execution_count": 3,
   "outputs": [
    {
     "data": {
      "text/plain": "        pop    x_coord    y_coord                   geometry\n0  1.889245  13.441986  52.530828  POINT (13.44199 52.53083)\n1  2.585283  13.441716  52.530558  POINT (13.44172 52.53056)\n2  6.065472  13.437135  52.529480  POINT (13.43713 52.52948)\n3  6.065472  13.437404  52.529480  POINT (13.43740 52.52948)\n4  1.988679  13.440099  52.529480  POINT (13.44010 52.52948)",
      "text/html": "<div>\n<style scoped>\n    .dataframe tbody tr th:only-of-type {\n        vertical-align: middle;\n    }\n\n    .dataframe tbody tr th {\n        vertical-align: top;\n    }\n\n    .dataframe thead th {\n        text-align: right;\n    }\n</style>\n<table border=\"1\" class=\"dataframe\">\n  <thead>\n    <tr style=\"text-align: right;\">\n      <th></th>\n      <th>pop</th>\n      <th>x_coord</th>\n      <th>y_coord</th>\n      <th>geometry</th>\n    </tr>\n  </thead>\n  <tbody>\n    <tr>\n      <th>0</th>\n      <td>1.889245</td>\n      <td>13.441986</td>\n      <td>52.530828</td>\n      <td>POINT (13.44199 52.53083)</td>\n    </tr>\n    <tr>\n      <th>1</th>\n      <td>2.585283</td>\n      <td>13.441716</td>\n      <td>52.530558</td>\n      <td>POINT (13.44172 52.53056)</td>\n    </tr>\n    <tr>\n      <th>2</th>\n      <td>6.065472</td>\n      <td>13.437135</td>\n      <td>52.529480</td>\n      <td>POINT (13.43713 52.52948)</td>\n    </tr>\n    <tr>\n      <th>3</th>\n      <td>6.065472</td>\n      <td>13.437404</td>\n      <td>52.529480</td>\n      <td>POINT (13.43740 52.52948)</td>\n    </tr>\n    <tr>\n      <th>4</th>\n      <td>1.988679</td>\n      <td>13.440099</td>\n      <td>52.529480</td>\n      <td>POINT (13.44010 52.52948)</td>\n    </tr>\n  </tbody>\n</table>\n</div>"
     },
     "execution_count": 3,
     "metadata": {},
     "output_type": "execute_result"
    }
   ],
   "source": [
    "gdf = population.raster_to_points(path=project_path + \"/data/friedrichshain_population_raster.tif\")\n",
    "gdf.head()"
   ],
   "metadata": {
    "collapsed": false,
    "pycharm": {
     "name": "#%%\n"
    }
   }
  },
  {
   "cell_type": "code",
   "execution_count": null,
   "metadata": {},
   "outputs": [],
   "source": []
  }
 ],
 "metadata": {
  "kernelspec": {
   "display_name": "Python 3",
   "language": "python",
   "name": "python3"
  },
  "language_info": {
   "codemirror_mode": {
    "name": "ipython",
    "version": 3
   },
   "file_extension": ".py",
   "mimetype": "text/x-python",
   "name": "python",
   "nbconvert_exporter": "python",
   "pygments_lexer": "ipython3",
   "version": "3.8.10"
  }
 },
 "nbformat": 4,
 "nbformat_minor": 4
}